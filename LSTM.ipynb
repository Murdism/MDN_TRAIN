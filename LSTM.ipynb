{
 "cells": [
  {
   "cell_type": "code",
   "execution_count": 1,
   "metadata": {},
   "outputs": [],
   "source": [
    "import pickle\n",
    "import matplotlib.pyplot as plt # creating visualizations\n",
    "import numpy as np # basic math and random numbers\n",
    "import torch # package for building functions with learnable parameters\n",
    "import torch.nn as nn # prebuilt functions specific to neural networks\n",
    "from torch.autograd import Variable # storing data while learning\n",
    "#from disp import ADE,FDE,prediction_displacement,ADE_double_coordinates,FDE_double_coordinates,prediction_displacement_double\n"
   ]
  },
  {
   "cell_type": "code",
   "execution_count": 2,
   "metadata": {},
   "outputs": [],
   "source": [
    "def ADE(pred,truth): \n",
    "    counter=0\n",
    "    sum=0\n",
    "    pred = pd.DataFrame(pred.cpu().numpy())\n",
    "    truth = pd.DataFrame(truth.cpu().numpy())\n",
    "    print(pred.shape)\n",
    "    for i in range(len(pred)):\n",
    "        half=int(len(pred[i])/2)\n",
    "        for j in range (half):\n",
    "\n",
    "            a = np.array((pred[i][j] , pred[i][half+j]))\n",
    "            b = np.array((truth.iloc[i][j] , truth.iloc[i][half+j]))\n",
    "\n",
    "            dist = np.linalg.norm(a-b)\n",
    "            sum+=dist\n",
    "            counter+=1\n",
    "            #print(\"Distance between\",a,\" and \",b,\" is: \",dist)\n",
    "\n",
    "    return (sum/counter)\n",
    "def FDE_Single(pred,truth): \n",
    "    counter=0\n",
    "    sum=0\n",
    "    pred = pred.cpu().numpy()\n",
    "    truth = truth.cpu().numpy()\n",
    "\n",
    "    for ai,bi in zip(pred,truth):\n",
    "        # print(ai,bi)\n",
    "        dist = np.linalg.norm(ai-bi)\n",
    "        sum+=dist\n",
    "        counter+=1\n",
    "    return (sum/counter)\n",
    "\n",
    "\n",
    "def show_error_single(prediction_train,prediction_test,train_target,test_target):\n",
    "                # # Show error rate\n",
    "        print(\"AVERAGE DISTANCE BETWEEN FIRST AND LAST POINT Train: \",prediction_displacement(train_target))\n",
    "        print(\"AVERAGE DISTANCE BETWEEN FIRST AND LAST POINT Test: \",prediction_displacement(test_target))\n",
    "        print(\"////////////////////////////////////////////////\")\n",
    "        #average_displacement_error\n",
    "        print(\"ADE ERROR RATE TEST: \", FDE_Single(prediction_test,test_target))\n",
    "        #average_displacement_error\n",
    "        print(\"ADE ERROR RATE TRAIN: \", FDE_Single(prediction_train,train_target))\n",
    "        print(\"//////////////////////////////////////////\")\n",
    "        #Final_displacement_error\n",
    "        print(\"FDE ERROR RATE TEST: \", FDE_Single(prediction_test,test_target))\n",
    "        print(\"FDE ERROR RATE TRAIN: \", FDE_Single(prediction_train,train_target))"
   ]
  },
  {
   "cell_type": "code",
   "execution_count": 3,
   "metadata": {},
   "outputs": [],
   "source": [
    "import numpy as np\n",
    "import pandas as pd\n",
    "# Predict error\n",
    "# Average Displacement error\n",
    "\n",
    "def ADE(pred,truth): \n",
    "    counter=0\n",
    "    sum=0\n",
    "    for i in range(len(pred)):\n",
    "        half=int(len(pred[i])/2)\n",
    "        for j in range (half):\n",
    "\n",
    "            a = np.array((pred[i][j] , pred[i][half+j]))\n",
    "            b = np.array((truth.iloc[i][j] , truth.iloc[i][half+j]))\n",
    "\n",
    "            dist = np.linalg.norm(a-b)\n",
    "            sum+=dist\n",
    "            counter+=1\n",
    "            #print(\"Distance between\",a,\" and \",b,\" is: \",dist)\n",
    "\n",
    "    return (sum/counter)\n",
    "def prediction_displacement_double(pred): \n",
    "          \n",
    "        sum=0\n",
    "        counter=0        \n",
    "        pred=np.array(pred)\n",
    "        last_index= (len(pred[0])-1)\n",
    "        \n",
    "        for i in range(len(pred)):\n",
    "                \n",
    "                    a = np.array((pred[i][0][0] , pred[i][0][1]))\n",
    "                    b = np.array((pred[i][last_index][0] , pred[i][last_index][1]))\n",
    "\n",
    "                    dist = np.linalg.norm(a-b)\n",
    "                    sum+=dist\n",
    "                    counter+=1\n",
    "        return (sum/counter)\n",
    "\n",
    "def prediction_displacement(pred): \n",
    "    counter=0\n",
    "    sum=0\n",
    "    pred=np.array(pred)\n",
    "    for i in range(len(pred)):\n",
    "        half=int(len(pred[i])/2)\n",
    "        last=(len(pred[i]) - 1)\n",
    "\n",
    "        a = np.array((pred[i][0] , pred[i][half]))\n",
    "        b = np.array((pred[i][half-1] , pred[i][last]))\n",
    "\n",
    "        dist = np.linalg.norm(a-b)\n",
    "        sum+=dist\n",
    "        counter+=1\n",
    "        #print(\"FDE Distance between\",a,\" and \",b,\" is: \",dist)\n",
    "            \n",
    "    return (sum/counter)\n",
    "def FDE(pred,truth): \n",
    "    counter=0\n",
    "    sum=0\n",
    "    for i in range(len(pred)):\n",
    "        half=int(len(pred[i])/2)\n",
    "        last=(len(pred[i]) - 1)\n",
    "\n",
    "        a = np.array((pred[i][half-1] , pred[i][last]))\n",
    "        b = np.array((truth.iloc[i][half-1] , truth.iloc[i][last]))\n",
    "\n",
    "        dist = np.linalg.norm(a-b)\n",
    "        sum+=dist\n",
    "        counter+=1\n",
    "        #print(\"FDE Distance between\",a,\" and \",b,\" is: \",dist)\n",
    "            \n",
    "    return (sum/counter)\n",
    "\n",
    "\n",
    "def FDE_double_coordinates(pred,truth):\n",
    "          \n",
    "        sum=0\n",
    "        counter=0\n",
    "        \n",
    "        pred=np.array(pred)\n",
    "        truth=np.array(truth)\n",
    "        last_index= (len(pred[0])-1)\n",
    "\n",
    "        for i in range(len(pred)):\n",
    "                \n",
    "            a = np.array((pred[i][last_index][0] , pred[i][last_index][1]))\n",
    "            b = np.array((truth[i][last_index][0] , truth[i][last_index][1]))\n",
    "\n",
    "            dist = np.linalg.norm(a-b)\n",
    "            sum+=dist\n",
    "            counter+=1\n",
    "\n",
    "                # for j in range (len(pred[i])):\n",
    "                #    pred_x.append(pred[i][j][0])  \n",
    "                #    pred_y.append(pred[i][j][1]) \n",
    "\n",
    "                #    truth_x.append(truth[i][j][0])  \n",
    "                #    truth_y.append(truth[i][j][1])\n",
    "        return (sum/counter)\n",
    "def ADE_double_coordinates(pred,truth):\n",
    "          \n",
    "        sum=0\n",
    "        counter=0\n",
    "        \n",
    "        pred=np.array(pred)\n",
    "        truth=np.array(truth)\n",
    "\n",
    "        for i in range(len(pred)):\n",
    "                \n",
    "                for j in range (len(pred[i])):\n",
    "\n",
    "                    a = np.array((pred[i][j][0] , pred[i][j][1]))\n",
    "                    b = np.array((truth[i][j][0] , truth[i][j][1]))\n",
    "\n",
    "                    dist = np.linalg.norm(a-b)\n",
    "                    sum+=dist\n",
    "                    counter+=1\n",
    "        return (sum/counter)"
   ]
  },
  {
   "cell_type": "code",
   "execution_count": 4,
   "metadata": {},
   "outputs": [],
   "source": [
    "def load_data():\n",
    "    with open('train_input.pickle', 'rb') as data:\n",
    "     train_input = pickle.load(data)\n",
    "    with open('validate_input.pickle', 'rb') as data:\n",
    "         validate_input= pickle.load(data)\n",
    "    with open('test_input.pickle', 'rb') as data:\n",
    "         test_input = pickle.load(data)\n",
    "    with open('train_target.pickle', 'rb') as data:\n",
    "          train_target = pickle.load(data)\n",
    "    with open('validate_target.pickle', 'rb') as data:\n",
    "          validate_target = pickle.load(data)\n",
    "    with open('test_target.pickle', 'rb') as data:\n",
    "         test_target = pickle.load(data)\n",
    "    return torch.tensor(train_input,dtype=torch.float32), torch.tensor(validate_input,dtype=torch.float32), torch.tensor(test_input,dtype=torch.float32), torch.tensor(train_target,dtype=torch.float32), torch.tensor(validate_target,dtype=torch.float32), torch.tensor(test_target,dtype=torch.float32)"
   ]
  },
  {
   "cell_type": "code",
   "execution_count": 5,
   "metadata": {},
   "outputs": [
    {
     "name": "stdout",
     "output_type": "stream",
     "text": [
      "Train shape:  torch.Size([5099, 8, 2])\n"
     ]
    }
   ],
   "source": [
    "train_input,validate_input,test_input,train_target,validate_target,test_target=load_data()\n",
    "print(\"Train shape: \" ,train_target.shape)"
   ]
  },
  {
   "cell_type": "code",
   "execution_count": 6,
   "metadata": {},
   "outputs": [],
   "source": [
    "class Dataset(torch.utils.data.Dataset):\n",
    "  'Characterizes a dataset for PyTorch'\n",
    "  def __init__(self, x, y):\n",
    "        'Initialization'\n",
    "        self.x = x\n",
    "        self.y = y\n",
    "\n",
    "  def __len__(self):\n",
    "        'Denotes the total number of samples'\n",
    "        return len(self.x)\n",
    "\n",
    "  def __getitem__(self, index):\n",
    "        # Load data and get label\n",
    "        X = self.x[index]\n",
    "        y = self.y[index]\n",
    "\n",
    "        return X, y"
   ]
  },
  {
   "cell_type": "code",
   "execution_count": 7,
   "metadata": {},
   "outputs": [],
   "source": [
    "train_dataset= Dataset(train_input, train_target)\n",
    "test_dataset= Dataset(test_input, test_target)"
   ]
  },
  {
   "cell_type": "code",
   "execution_count": 8,
   "metadata": {},
   "outputs": [],
   "source": [
    "class LinearNetwork(nn.Module):\n",
    "    def __init__(self):\n",
    "        super(LinearNetwork, self).__init__()\n",
    "        self.output_shape = (8,2)\n",
    "        self.flatten = nn.Flatten()\n",
    "        self.unflatten = nn.Unflatten(1,self.output_shape)\n",
    "        self.linear_relu_stack = nn.Sequential(\n",
    "            nn.Linear(8*2, 512),\n",
    "            nn.ReLU(),\n",
    "            nn.Linear(512, 512),\n",
    "            nn.ReLU(),\n",
    "            nn.Linear(512, 8*2),\n",
    "        )\n",
    "\n",
    "    def forward(self, x):\n",
    "        x = self.flatten(x)\n",
    "        # print(x[0])\n",
    "        logits = self.linear_relu_stack(x)\n",
    "        out = self.unflatten(logits)\n",
    "        # print(out[0])\n",
    "        return out"
   ]
  },
  {
   "cell_type": "code",
   "execution_count": 9,
   "metadata": {},
   "outputs": [
    {
     "name": "stdout",
     "output_type": "stream",
     "text": [
      "Using cuda device\n"
     ]
    }
   ],
   "source": [
    "device = \"cuda\" if torch.cuda.is_available() else \"cpu\"\n",
    "print(f\"Using {device} device\")"
   ]
  },
  {
   "cell_type": "code",
   "execution_count": 10,
   "metadata": {},
   "outputs": [
    {
     "name": "stdout",
     "output_type": "stream",
     "text": [
      "LinearNetwork(\n",
      "  (flatten): Flatten(start_dim=1, end_dim=-1)\n",
      "  (unflatten): Unflatten(dim=1, unflattened_size=(8, 2))\n",
      "  (linear_relu_stack): Sequential(\n",
      "    (0): Linear(in_features=16, out_features=512, bias=True)\n",
      "    (1): ReLU()\n",
      "    (2): Linear(in_features=512, out_features=512, bias=True)\n",
      "    (3): ReLU()\n",
      "    (4): Linear(in_features=512, out_features=16, bias=True)\n",
      "  )\n",
      ")\n"
     ]
    }
   ],
   "source": [
    "model = LinearNetwork().to(device)\n",
    "print(model)"
   ]
  },
  {
   "cell_type": "code",
   "execution_count": 11,
   "metadata": {},
   "outputs": [],
   "source": [
    "loss_fn = nn.MSELoss()\n",
    "optimizer = torch.optim.RMSprop(model.parameters())"
   ]
  },
  {
   "cell_type": "code",
   "execution_count": 12,
   "metadata": {},
   "outputs": [
    {
     "data": {
      "text/plain": [
       "True"
      ]
     },
     "execution_count": 12,
     "metadata": {},
     "output_type": "execute_result"
    }
   ],
   "source": [
    "train_input. requires_grad = True\n",
    "train_input = train_input.to(device)\n",
    "train_target = train_target.to(device)\n",
    "train_input. requires_grad "
   ]
  },
  {
   "cell_type": "code",
   "execution_count": 13,
   "metadata": {},
   "outputs": [
    {
     "name": "stdout",
     "output_type": "stream",
     "text": [
      "0 tensor(42.4832, device='cuda:0')\n",
      "300 tensor(1.4015, device='cuda:0')\n",
      "600 tensor(1.8944, device='cuda:0')\n",
      "900 tensor(1.1881, device='cuda:0')\n",
      "1200 tensor(0.5988, device='cuda:0')\n",
      "1500 tensor(1.2285, device='cuda:0')\n",
      "1800 tensor(1.5880, device='cuda:0')\n",
      "2100 tensor(0.4642, device='cuda:0')\n",
      "2400 tensor(0.4649, device='cuda:0')\n",
      "2700 tensor(0.8744, device='cuda:0')\n"
     ]
    }
   ],
   "source": [
    "def train():\n",
    "    for epoch in range(3000):\n",
    "        y_pred = model(train_input) # make a prediction\n",
    "        loss = loss_fn(y_pred,train_target) # compute the loss\n",
    "        optimizer.zero_grad() # prepare the optimizer\n",
    "        loss.backward() # compute the contribution of each parameter to the loss\n",
    "        optimizer.step() # modify the parameters\n",
    "\n",
    "        if epoch % 300 == 0:\n",
    "            print(epoch, loss.data)\n",
    "\n",
    "train()"
   ]
  },
  {
   "cell_type": "code",
   "execution_count": 14,
   "metadata": {},
   "outputs": [],
   "source": [
    "def show_error_double(prediction_train,prediction_test,train_target,test_target):\n",
    "                # # Show error rate\n",
    "        print(\"AVERAGE DISTANCE BETWEEN FIRST AND LAST POINT Train: \",prediction_displacement_double(train_target))\n",
    "        print(\"AVERAGE DISTANCE BETWEEN FIRST AND LAST POINT Test: \",prediction_displacement_double(test_target))\n",
    "             \n",
    "        #average_displacement_error\n",
    "        print(\"ADE ERROR RATE TEST: \", ADE_double_coordinates(prediction_test,test_target))\n",
    "        #average_displacement_error\n",
    "        print(\"ADE ERROR RATE TRAIN: \", ADE_double_coordinates(prediction_train,train_target))\n",
    "        print(\"//////////////////////////////////////////\")\n",
    "        #Final_displacement_error\n",
    "        print(\"FDE ERROR RATE TEST: \", FDE_double_coordinates(prediction_test,test_target))\n",
    "        print(\"FDE ERROR RATE TRAIN: \", FDE_double_coordinates(prediction_train,train_target))\n"
   ]
  },
  {
   "cell_type": "code",
   "execution_count": 15,
   "metadata": {},
   "outputs": [],
   "source": [
    "class ShallowRegressionLSTM(nn.Module):\n",
    "    def __init__(self, num_features, hidden_units,out_features=16,isseq=True):\n",
    "        super().__init__()\n",
    "        self.seq = isseq\n",
    "        self.num_features = num_features  # this is the number of features\n",
    "        self.hidden_units = hidden_units\n",
    "        self.num_layers = 1\n",
    "\n",
    "        self.lstm = nn.LSTM(\n",
    "            input_size=num_features,\n",
    "            hidden_size=hidden_units,\n",
    "            batch_first=True,\n",
    "            num_layers=self.num_layers\n",
    "        )\n",
    "\n",
    "        self.linear = nn.Linear(in_features=self.hidden_units, out_features=out_features)\n",
    "\n",
    "    def forward(self, x):\n",
    "        batch_size = x.shape[0]\n",
    "        # print(\"batch_size\",batch_size)\n",
    "        h0 = torch.zeros(self.num_layers, batch_size, self.hidden_units).requires_grad_().to(device)\n",
    "        c0 = torch.zeros(self.num_layers, batch_size, self.hidden_units).requires_grad_().to(device)\n",
    "        \n",
    "        _, (hn, _) = self.lstm(x, (h0, c0))\n",
    "        if(self.seq):\n",
    "            out = self.linear(hn[0]).reshape(batch_size,8,2) # First dim of Hn is num_layers, which is set to 1 above.\n",
    "        else:\n",
    "            out = self.linear(hn[0])\n",
    "        return out"
   ]
  },
  {
   "cell_type": "code",
   "execution_count": 16,
   "metadata": {},
   "outputs": [],
   "source": [
    "learning_rate = 5e-5\n",
    "num_hidden_units = 16\n",
    "hidden_size = 12\n",
    "n_features = 2\n",
    "num_layers = 1\n",
    "batch_size = 5\n",
    "\n",
    "LSTM_model = ShallowRegressionLSTM(num_features=n_features, hidden_units=num_hidden_units).to(device)\n",
    "loss_function = nn.MSELoss()\n",
    "optimizer = torch.optim.Adam(LSTM_model.parameters(), lr=learning_rate)"
   ]
  },
  {
   "cell_type": "code",
   "execution_count": 17,
   "metadata": {},
   "outputs": [],
   "source": [
    "train_loader = torch.utils.data.DataLoader(train_dataset, batch_size)"
   ]
  },
  {
   "cell_type": "code",
   "execution_count": 18,
   "metadata": {},
   "outputs": [],
   "source": [
    "def train_model(data_loader, model, loss_function, optimizer,epochs=10):\n",
    "    num_batches = len(data_loader)\n",
    "    total_loss = 0\n",
    "    model.train()\n",
    "    \n",
    "    for i in range (epochs):\n",
    "        total_loss = 0\n",
    "        for X, y in data_loader:\n",
    "            X = X.to(device)\n",
    "            y = y.to(device)\n",
    "            output = model(X)\n",
    "            # print(output.shape)\n",
    "            # print(y.shape)\n",
    "            loss = loss_function(output, y)\n",
    "\n",
    "            optimizer.zero_grad()\n",
    "            loss.backward()\n",
    "            optimizer.step()\n",
    "\n",
    "            total_loss += loss.item()\n",
    "\n",
    "        avg_loss = total_loss / num_batches\n",
    "        if (i+1)%5 == 0:\n",
    "            print(f\"Epoch {i+1} train loss: {avg_loss}\")\n",
    "    print(f\"Epoch {i+1} train loss: {avg_loss}\")"
   ]
  },
  {
   "cell_type": "code",
   "execution_count": 19,
   "metadata": {},
   "outputs": [
    {
     "name": "stdout",
     "output_type": "stream",
     "text": [
      "Epoch 5 train loss: 12.491618562650446\n",
      "Epoch 10 train loss: 5.979350595190829\n",
      "Epoch 15 train loss: 4.7102795102304835\n",
      "Epoch 20 train loss: 3.953763326553299\n",
      "Epoch 25 train loss: 3.3716476714480486\n",
      "Epoch 30 train loss: 2.8504271227629014\n",
      "Epoch 35 train loss: 2.345807111868635\n",
      "Epoch 40 train loss: 1.8168156178558574\n",
      "Epoch 45 train loss: 1.3237695597084786\n",
      "Epoch 50 train loss: 0.9389004541478831\n",
      "Epoch 55 train loss: 0.694685316720393\n",
      "Epoch 60 train loss: 0.5411829444112978\n",
      "Epoch 65 train loss: 0.4398331676489975\n",
      "Epoch 70 train loss: 0.36982810738982685\n",
      "Epoch 75 train loss: 0.3211702946005115\n",
      "Epoch 80 train loss: 0.28759743698476586\n",
      "Epoch 85 train loss: 0.2640571870075826\n",
      "Epoch 90 train loss: 0.24684564276845491\n",
      "Epoch 95 train loss: 0.2335837020845764\n",
      "Epoch 96 train loss: 0.23126802532494242\n"
     ]
    }
   ],
   "source": [
    "train_model(train_loader, LSTM_model, loss_function, optimizer,epochs=96)"
   ]
  },
  {
   "cell_type": "code",
   "execution_count": 20,
   "metadata": {},
   "outputs": [
    {
     "name": "stdout",
     "output_type": "stream",
     "text": [
      "tensor(0.3620, device='cuda:0')\n"
     ]
    }
   ],
   "source": [
    "with torch.no_grad():\n",
    "    test_input = test_input.to(device)\n",
    "    test_pred = LSTM_model(test_input)\n",
    "    train_pred = LSTM_model(train_input)\n",
    "    loss = loss_fn(test_target.to(device), test_pred)\n",
    "    print(loss.data)"
   ]
  },
  {
   "cell_type": "code",
   "execution_count": 28,
   "metadata": {},
   "outputs": [
    {
     "name": "stdout",
     "output_type": "stream",
     "text": [
      "AVERAGE DISTANCE BETWEEN FIRST AND LAST POINT Train:  1.7491152588806866\n",
      "AVERAGE DISTANCE BETWEEN FIRST AND LAST POINT Test:  2.7941778349259665\n",
      "ADE ERROR RATE TEST:  0.6753567187978511\n",
      "ADE ERROR RATE TRAIN:  0.6038684342316215\n",
      "//////////////////////////////////////////\n",
      "FDE ERROR RATE TEST:  0.9912168919241945\n",
      "FDE ERROR RATE TRAIN:  0.9114254694895947\n"
     ]
    }
   ],
   "source": [
    "train_pred = train_pred.cpu()\n",
    "test_pred = test_pred.cpu()\n",
    "train_target = train_target.cpu()\n",
    "test_target = test_target.cpu()\n",
    "show_error_double(train_pred,test_pred,train_target,test_target)"
   ]
  },
  {
   "cell_type": "code",
   "execution_count": 22,
   "metadata": {},
   "outputs": [],
   "source": [
    "# Predicting only one point in the future\n",
    "train_target_one = train_target[:,0,:]\n",
    "test_target_one = test_target[:,0,:]\n",
    "train_dataset_one= Dataset(train_input, train_target_one)\n",
    "test_dataset_one= Dataset(test_input, test_target_one)\n",
    "train_loader_one = torch.utils.data.DataLoader(train_dataset_one, batch_size)\n",
    "test_loader_one = torch.utils.data.DataLoader(test_dataset_one, batch_size)"
   ]
  },
  {
   "cell_type": "code",
   "execution_count": 23,
   "metadata": {},
   "outputs": [],
   "source": [
    "learning_rate = 5e-5\n",
    "num_hidden_units = 16\n",
    "hidden_size = 12\n",
    "n_features = 2\n",
    "num_layers = 1\n",
    "batch_size = 5\n",
    "\n",
    "LSTM_model2 = ShallowRegressionLSTM(num_features=n_features, hidden_units=num_hidden_units,out_features=2,isseq=False).to(device)\n",
    "loss_function = nn.MSELoss()\n",
    "optimizer = torch.optim.Adam(LSTM_model2.parameters(), lr=learning_rate)"
   ]
  },
  {
   "cell_type": "code",
   "execution_count": 24,
   "metadata": {},
   "outputs": [
    {
     "name": "stdout",
     "output_type": "stream",
     "text": [
      "Epoch 5 train loss: 7.8207986168344235\n",
      "Epoch 10 train loss: 2.9354971282339344\n",
      "Epoch 15 train loss: 1.6785979251317935\n",
      "Epoch 20 train loss: 0.8806190938991337\n",
      "Epoch 25 train loss: 0.4690567978283605\n",
      "Epoch 30 train loss: 0.26560317042733056\n",
      "Epoch 35 train loss: 0.16445865940956417\n",
      "Epoch 40 train loss: 0.11230330844314534\n",
      "Epoch 45 train loss: 0.0824782337917182\n",
      "Epoch 50 train loss: 0.06326309477695116\n",
      "Epoch 55 train loss: 0.04993063369036766\n",
      "Epoch 60 train loss: 0.0401968464482676\n",
      "Epoch 65 train loss: 0.0328324758031673\n",
      "Epoch 70 train loss: 0.027111867316104696\n",
      "Epoch 75 train loss: 0.022569252421896085\n",
      "Epoch 80 train loss: 0.018918517913171885\n",
      "Epoch 85 train loss: 0.01600040433485476\n",
      "Epoch 90 train loss: 0.0137206867074666\n",
      "Epoch 95 train loss: 0.011969883987706932\n",
      "Epoch 96 train loss: 0.011670654579058169\n"
     ]
    }
   ],
   "source": [
    "train_model(train_loader_one, LSTM_model2, loss_function, optimizer,epochs=96)"
   ]
  },
  {
   "cell_type": "code",
   "execution_count": 25,
   "metadata": {},
   "outputs": [
    {
     "name": "stdout",
     "output_type": "stream",
     "text": [
      "loss_train: 0.011891846545040607 \n",
      "loss_test: 0.02230851724743843\n"
     ]
    }
   ],
   "source": [
    "with torch.no_grad():\n",
    "    test_pred_one= LSTM_model2(test_input)\n",
    "    train_pred_one = LSTM_model2(train_input)\n",
    "    loss_train = loss_fn(train_target_one.to(device), train_pred_one)\n",
    "    loss_test = loss_fn(test_target_one.to(device), test_pred_one)\n",
    "    print(f'loss_train: {loss_train.data} \\nloss_test: {loss_test.data}')"
   ]
  },
  {
   "cell_type": "code",
   "execution_count": 26,
   "metadata": {},
   "outputs": [
    {
     "name": "stdout",
     "output_type": "stream",
     "text": [
      "AVERAGE DISTANCE BETWEEN FIRST AND LAST POINT Train:  0.0\n",
      "AVERAGE DISTANCE BETWEEN FIRST AND LAST POINT Test:  0.0\n",
      "////////////////////////////////////////////////\n",
      "ADE ERROR RATE TEST:  0.14243410510810472\n",
      "ADE ERROR RATE TRAIN:  0.10414738581315118\n",
      "//////////////////////////////////////////\n",
      "FDE ERROR RATE TEST:  0.14243410510810472\n",
      "FDE ERROR RATE TRAIN:  0.10414738581315118\n"
     ]
    }
   ],
   "source": [
    "train_pred_one = train_pred_one.cpu()\n",
    "test_pred_one = test_pred_one.cpu()\n",
    "train_target_one = train_target_one.cpu()\n",
    "test_target_one = test_target_one.cpu()\n",
    "show_error_single(train_pred_one,test_pred_one,train_target_one,test_target_one)"
   ]
  },
  {
   "cell_type": "markdown",
   "metadata": {},
   "source": [
    "# Gaussian Distribution Functions"
   ]
  },
  {
   "cell_type": "code",
   "execution_count": 29,
   "metadata": {},
   "outputs": [],
   "source": [
    "oneDivSqrtTwoPI = 1.0 / np.sqrt(2.0*np.pi) # normalization factor for Gaussians\n",
    "def gaussian_distribution(y, mu, sigma):\n",
    "    # make |mu|=K copies of y, subtract mu, divide by sigma\n",
    "    result = (y.expand_as(mu) - mu) * torch.reciprocal(sigma)\n",
    "    result = -0.5 * (result * result)\n",
    "    return (torch.exp(result) * torch.reciprocal(sigma)) * oneDivSqrtTwoPI\n",
    "\n",
    "def mdn_loss_fn(pi, sigma, mu, y):\n",
    "    result = gaussian_distribution(y, mu, sigma) * pi\n",
    "    print(\"result1: \",result.shape)\n",
    "    result = torch.sum(result, dim=1)\n",
    "    print(\"result after sum: \",result.shape)\n",
    "    result = -torch.log(result)\n",
    "    print(\"result after log: \",result.shape)\n",
    "    return torch.mean(result)"
   ]
  },
  {
   "cell_type": "code",
   "execution_count": 72,
   "metadata": {},
   "outputs": [],
   "source": [
    "class MDN(nn.Module):\n",
    "    def __init__(self,n_hidden, n_gaussians,input_shape = 16):\n",
    "        super(MDN, self).__init__()\n",
    "        self.z_h = nn.Sequential(\n",
    "            nn.Linear(input_shape, n_hidden),\n",
    "            nn.Tanh()\n",
    "        )\n",
    "        self.z_pi = nn.Linear(n_hidden, n_gaussians).to(device)\n",
    "        self.z_sigma = nn.Linear(n_hidden, n_gaussians).to(device)\n",
    "        self.z_mu = nn.Linear(n_hidden, n_gaussians).to(device)  \n",
    "\n",
    "    def forward(self, x):\n",
    "        print(\"x.shape: \",x.shape)\n",
    "        z_h = self.z_h(x).to(device)\n",
    "        pi = nn.functional.softmax(self.z_pi(z_h), -1).to(device)\n",
    "        sigma = torch.exp(self.z_sigma(z_h)).to(device)\n",
    "        mu = self.z_mu(z_h).to(device)\n",
    "        return pi, sigma, mu"
   ]
  },
  {
   "cell_type": "code",
   "execution_count": 73,
   "metadata": {},
   "outputs": [],
   "source": [
    "network = MDN(n_hidden=20, n_gaussians=5).to(device)"
   ]
  },
  {
   "cell_type": "code",
   "execution_count": 74,
   "metadata": {},
   "outputs": [
    {
     "data": {
      "text/plain": [
       "<bound method Module.parameters of MDN(\n",
       "  (z_h): Sequential(\n",
       "    (0): Linear(in_features=16, out_features=20, bias=True)\n",
       "    (1): Tanh()\n",
       "  )\n",
       "  (z_pi): Linear(in_features=20, out_features=5, bias=True)\n",
       "  (z_sigma): Linear(in_features=20, out_features=5, bias=True)\n",
       "  (z_mu): Linear(in_features=20, out_features=5, bias=True)\n",
       ")>"
      ]
     },
     "execution_count": 74,
     "metadata": {},
     "output_type": "execute_result"
    }
   ],
   "source": [
    "network.parameters"
   ]
  },
  {
   "cell_type": "code",
   "execution_count": 76,
   "metadata": {},
   "outputs": [
    {
     "name": "stdout",
     "output_type": "stream",
     "text": [
      "x.shape:  torch.Size([3, 16])\n"
     ]
    },
    {
     "data": {
      "text/plain": [
       "(tensor([[0.2373, 0.2017, 0.1277, 0.2424, 0.1908],\n",
       "         [0.2136, 0.1770, 0.1427, 0.2810, 0.1857],\n",
       "         [0.1990, 0.1935, 0.1557, 0.2605, 0.1913]], device='cuda:0',\n",
       "        grad_fn=<SoftmaxBackward0>),\n",
       " tensor([[0.7861, 0.7846, 1.5718, 0.8373, 1.3555],\n",
       "         [0.7534, 0.7882, 1.1083, 0.9331, 1.3785],\n",
       "         [0.6637, 0.7275, 1.1896, 0.9625, 1.5129]], device='cuda:0',\n",
       "        grad_fn=<ExpBackward0>),\n",
       " tensor([[-0.1885,  0.3146,  0.0279,  0.5617,  0.3669],\n",
       "         [-0.0890,  0.2002,  0.0723,  0.4279,  0.3924],\n",
       "         [-0.0491,  0.2665,  0.0586,  0.4024,  0.2599]], device='cuda:0',\n",
       "        grad_fn=<AddmmBackward0>))"
      ]
     },
     "execution_count": 76,
     "metadata": {},
     "output_type": "execute_result"
    }
   ],
   "source": [
    "input = torch.rand(3,8,2).to(device)\n",
    "# input = torch.rand(8,1).to(device)\n",
    "input = torch.flatten(input,1)\n",
    "pi, sigma, mu = network(input)\n",
    "pi, sigma, mu"
   ]
  },
  {
   "cell_type": "code",
   "execution_count": 77,
   "metadata": {},
   "outputs": [
    {
     "name": "stdout",
     "output_type": "stream",
     "text": [
      "x.shape:  torch.Size([2, 10, 16])\n",
      "----------------------------------------------------------------\n",
      "        Layer (type)               Output Shape         Param #\n",
      "================================================================\n",
      "            Linear-1               [-1, 10, 20]             340\n",
      "              Tanh-2               [-1, 10, 20]               0\n",
      "            Linear-3                [-1, 10, 5]             105\n",
      "            Linear-4                [-1, 10, 5]             105\n",
      "            Linear-5                [-1, 10, 5]             105\n",
      "================================================================\n",
      "Total params: 655\n",
      "Trainable params: 655\n",
      "Non-trainable params: 0\n",
      "----------------------------------------------------------------\n",
      "Input size (MB): 0.00\n",
      "Forward/backward pass size (MB): 0.00\n",
      "Params size (MB): 0.00\n",
      "Estimated Total Size (MB): 0.01\n",
      "----------------------------------------------------------------\n"
     ]
    }
   ],
   "source": [
    "from torchsummary import summary\n",
    "input = (10,16)\n",
    "summary(network,input)"
   ]
  },
  {
   "cell_type": "code",
   "execution_count": 137,
   "metadata": {},
   "outputs": [],
   "source": [
    "import matplotlib.pyplot as plt\n",
    "from matplotlib import cm\n",
    "from mpl_toolkits.mplot3d import Axes3D\n",
    "# Our 2-dimensional distribution will be over variables X and Y\n",
    "N = 8\n",
    "X = np.linspace(-3, 3, N)\n",
    "Y = np.linspace(-3, 4, N)\n",
    "X, Y = np.meshgrid(X, Y)\n",
    "\n",
    "# Mean vector and covariance matrix\n",
    "mu = np.array([0., 1.])\n",
    "Sigma = np.array([[ 1.1 , 0.], [0,  1.5]])\n",
    "\n",
    "# Pack X and Y into a single 3-dimensional array\n",
    "pos = np.empty(X.shape + (2,))\n",
    "pos[:, :, 0] = X\n",
    "pos[:, :, 1] = Y\n"
   ]
  },
  {
   "cell_type": "code",
   "execution_count": 142,
   "metadata": {},
   "outputs": [
    {
     "data": {
      "text/plain": [
       "(8, 8, 2)"
      ]
     },
     "execution_count": 142,
     "metadata": {},
     "output_type": "execute_result"
    }
   ],
   "source": [
    "pos.shape"
   ]
  },
  {
   "cell_type": "code",
   "execution_count": 138,
   "metadata": {},
   "outputs": [
    {
     "data": {
      "text/plain": [
       "(8, 8)"
      ]
     },
     "execution_count": 138,
     "metadata": {},
     "output_type": "execute_result"
    }
   ],
   "source": [
    "X.shape"
   ]
  },
  {
   "cell_type": "code",
   "execution_count": 139,
   "metadata": {},
   "outputs": [],
   "source": [
    "\n",
    "def multivariate_gaussian(pos, mu, Sigma):\n",
    "    \"\"\"Return the multivariate Gaussian distribution on array pos.\n",
    "\n",
    "    pos is an array constructed by packing the meshed arrays of variables\n",
    "    x_1, x_2, x_3, ..., x_k into its _last_ dimension.\n",
    "\n",
    "    \"\"\"\n",
    "\n",
    "    n = mu.shape[0]\n",
    "    Sigma_det = np.linalg.det(Sigma)\n",
    "    Sigma_inv = np.linalg.inv(Sigma)\n",
    "    N = np.sqrt((2*np.pi)**n * Sigma_det)\n",
    "    # This einsum call calculates (x-mu)T.Sigma-1.(x-mu) in a vectorized\n",
    "    # way across all the input variables.\n",
    "    fac = np.einsum('...k,kl,...l->...', pos-mu, Sigma_inv, pos-mu)\n",
    "\n",
    "    return np.exp(-fac / 2) / N\n",
    "\n"
   ]
  },
  {
   "cell_type": "code",
   "execution_count": 140,
   "metadata": {},
   "outputs": [
    {
     "data": {
      "text/plain": [
       "(8, 8)"
      ]
     },
     "execution_count": 140,
     "metadata": {},
     "output_type": "execute_result"
    }
   ],
   "source": [
    "# The distribution on the variables X, Y packed into pos.\n",
    "Z = multivariate_gaussian(pos, mu, Sigma)\n",
    "Z.shape\n"
   ]
  },
  {
   "cell_type": "code",
   "execution_count": 141,
   "metadata": {},
   "outputs": [
    {
     "data": {
      "image/png": "[encoded data removed]",
      "text/plain": [
       "<Figure size 640x480 with 1 Axes>"
      ]
     },
     "metadata": {},
     "output_type": "display_data"
    }
   ],
   "source": [
    "\n",
    "# Create a surface plot and projected filled contour plot under it.\n",
    "fig = plt.figure()\n",
    "ax = fig.add_subplot(1, 1, 1, projection='3d')\n",
    "ax.plot_surface(X, Y, Z, rstride=3, cstride=3, linewidth=1, antialiased=True,\n",
    "                cmap=cm.viridis)\n",
    "\n",
    "cset = ax.contourf(X, Y, Z, zdir='z', offset=-0.15, cmap=cm.viridis)\n",
    "\n",
    "# Adjust the limits, ticks and view angle\n",
    "ax.set_zlim(-0.15,0.2)\n",
    "ax.set_zticks(np.linspace(0,0.2,5))\n",
    "ax.view_init(27, -21)\n",
    "\n",
    "plt.show()"
   ]
  }
 ],
 "metadata": {
  "kernelspec": {
   "display_name": "Python 3.10.6 ('torched')",
   "language": "python",
   "name": "python3"
  },
  "language_info": {
   "codemirror_mode": {
    "name": "ipython",
    "version": 3
   },
   "file_extension": ".py",
   "mimetype": "text/x-python",
   "name": "python",
   "nbconvert_exporter": "python",
   "pygments_lexer": "ipython3",
   "version": "3.10.6"
  },
  "orig_nbformat": 4,
  "vscode": {
   "interpreter": {
    "hash": "b72875b808b4821a66c056bbb38de6a4c1e75d06274b19513bafe416aafb864f"
   }
  }
 },
 "nbformat": 4,
 "nbformat_minor": 2
}
