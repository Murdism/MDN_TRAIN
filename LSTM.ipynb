{
 "cells": [
  {
   "cell_type": "code",
   "execution_count": 189,
   "metadata": {},
   "outputs": [],
   "source": [
    "import pickle\n",
    "import matplotlib.pyplot as plt # creating visualizations\n",
    "import numpy as np # basic math and random numbers\n",
    "import torch # package for building functions with learnable parameters\n",
    "import torch.nn as nn # prebuilt functions specific to neural networks\n",
    "from torch.autograd import Variable # storing data while learning\n",
    "#from disp import ADE,FDE,prediction_displacement,ADE_double_coordinates,FDE_double_coordinates,prediction_displacement_double\n"
   ]
  },
  {
   "cell_type": "code",
   "execution_count": 190,
   "metadata": {},
   "outputs": [],
   "source": [
    "def ADE(pred,truth): \n",
    "    counter=0\n",
    "    sum=0\n",
    "    pred = pd.DataFrame(pred.cpu().numpy())\n",
    "    truth = pd.DataFrame(truth.cpu().numpy())\n",
    "    print(pred.shape)\n",
    "    for i in range(len(pred)):\n",
    "        half=int(len(pred[i])/2)\n",
    "        for j in range (half):\n",
    "\n",
    "            a = np.array((pred[i][j] , pred[i][half+j]))\n",
    "            b = np.array((truth.iloc[i][j] , truth.iloc[i][half+j]))\n",
    "\n",
    "            dist = np.linalg.norm(a-b)\n",
    "            sum+=dist\n",
    "            counter+=1\n",
    "            #print(\"Distance between\",a,\" and \",b,\" is: \",dist)\n",
    "\n",
    "    return (sum/counter)\n",
    "def FDE_Single(pred,truth): \n",
    "    counter=0\n",
    "    sum=0\n",
    "    pred = pred.cpu().numpy()\n",
    "    truth = truth.cpu().numpy()\n",
    "\n",
    "    for ai,bi in zip(pred,truth):\n",
    "        # print(ai,bi)\n",
    "        dist = np.linalg.norm(ai-bi)\n",
    "        sum+=dist\n",
    "        counter+=1\n",
    "    return (sum/counter)\n",
    "\n",
    "\n",
    "def show_error_single(prediction_train,prediction_test,train_target,test_target):\n",
    "                # # Show error rate\n",
    "        print(\"AVERAGE DISTANCE BETWEEN FIRST AND LAST POINT Train: \",prediction_displacement(train_target))\n",
    "        print(\"AVERAGE DISTANCE BETWEEN FIRST AND LAST POINT Test: \",prediction_displacement(test_target))\n",
    "        print(\"////////////////////////////////////////////////\")\n",
    "        #average_displacement_error\n",
    "        print(\"ADE ERROR RATE TEST: \", FDE_Single(prediction_test,test_target))\n",
    "        #average_displacement_error\n",
    "        print(\"ADE ERROR RATE TRAIN: \", FDE_Single(prediction_train,train_target))\n",
    "        print(\"//////////////////////////////////////////\")\n",
    "        #Final_displacement_error\n",
    "        print(\"FDE ERROR RATE TEST: \", FDE_Single(prediction_test,test_target))\n",
    "        print(\"FDE ERROR RATE TRAIN: \", FDE_Single(prediction_train,train_target))"
   ]
  },
  {
   "cell_type": "code",
   "execution_count": 191,
   "metadata": {},
   "outputs": [],
   "source": [
    "import numpy as np\n",
    "import pandas as pd\n",
    "# Predict error\n",
    "# Average Displacement error\n",
    "\n",
    "def ADE(pred,truth): \n",
    "    counter=0\n",
    "    sum=0\n",
    "    for i in range(len(pred)):\n",
    "        half=int(len(pred[i])/2)\n",
    "        for j in range (half):\n",
    "\n",
    "            a = np.array((pred[i][j] , pred[i][half+j]))\n",
    "            b = np.array((truth.iloc[i][j] , truth.iloc[i][half+j]))\n",
    "\n",
    "            dist = np.linalg.norm(a-b)\n",
    "            sum+=dist\n",
    "            counter+=1\n",
    "            #print(\"Distance between\",a,\" and \",b,\" is: \",dist)\n",
    "\n",
    "    return (sum/counter)\n",
    "def prediction_displacement_double(pred): \n",
    "          \n",
    "        sum=0\n",
    "        counter=0        \n",
    "        pred=np.array(pred)\n",
    "        last_index= (len(pred[0])-1)\n",
    "        \n",
    "        for i in range(len(pred)):\n",
    "                \n",
    "                    a = np.array((pred[i][0][0] , pred[i][0][1]))\n",
    "                    b = np.array((pred[i][last_index][0] , pred[i][last_index][1]))\n",
    "\n",
    "                    dist = np.linalg.norm(a-b)\n",
    "                    sum+=dist\n",
    "                    counter+=1\n",
    "        return (sum/counter)\n",
    "\n",
    "def prediction_displacement(pred): \n",
    "    counter=0\n",
    "    sum=0\n",
    "    pred=np.array(pred)\n",
    "    for i in range(len(pred)):\n",
    "        half=int(len(pred[i])/2)\n",
    "        last=(len(pred[i]) - 1)\n",
    "\n",
    "        a = np.array((pred[i][0] , pred[i][half]))\n",
    "        b = np.array((pred[i][half-1] , pred[i][last]))\n",
    "\n",
    "        dist = np.linalg.norm(a-b)\n",
    "        sum+=dist\n",
    "        counter+=1\n",
    "        #print(\"FDE Distance between\",a,\" and \",b,\" is: \",dist)\n",
    "            \n",
    "    return (sum/counter)\n",
    "def FDE(pred,truth): \n",
    "    counter=0\n",
    "    sum=0\n",
    "    for i in range(len(pred)):\n",
    "        half=int(len(pred[i])/2)\n",
    "        last=(len(pred[i]) - 1)\n",
    "\n",
    "        a = np.array((pred[i][half-1] , pred[i][last]))\n",
    "        b = np.array((truth.iloc[i][half-1] , truth.iloc[i][last]))\n",
    "\n",
    "        dist = np.linalg.norm(a-b)\n",
    "        sum+=dist\n",
    "        counter+=1\n",
    "        #print(\"FDE Distance between\",a,\" and \",b,\" is: \",dist)\n",
    "            \n",
    "    return (sum/counter)\n",
    "\n",
    "\n",
    "def FDE_double_coordinates(pred,truth):\n",
    "          \n",
    "        sum=0\n",
    "        counter=0\n",
    "        \n",
    "        pred=np.array(pred)\n",
    "        truth=np.array(truth)\n",
    "        last_index= (len(pred[0])-1)\n",
    "\n",
    "        for i in range(len(pred)):\n",
    "                \n",
    "            a = np.array((pred[i][last_index][0] , pred[i][last_index][1]))\n",
    "            b = np.array((truth[i][last_index][0] , truth[i][last_index][1]))\n",
    "\n",
    "            dist = np.linalg.norm(a-b)\n",
    "            sum+=dist\n",
    "            counter+=1\n",
    "\n",
    "                # for j in range (len(pred[i])):\n",
    "                #    pred_x.append(pred[i][j][0])  \n",
    "                #    pred_y.append(pred[i][j][1]) \n",
    "\n",
    "                #    truth_x.append(truth[i][j][0])  \n",
    "                #    truth_y.append(truth[i][j][1])\n",
    "        return (sum/counter)\n",
    "def ADE_double_coordinates(pred,truth):\n",
    "          \n",
    "        sum=0\n",
    "        counter=0\n",
    "        \n",
    "        pred=np.array(pred)\n",
    "        truth=np.array(truth)\n",
    "\n",
    "        for i in range(len(pred)):\n",
    "                \n",
    "                for j in range (len(pred[i])):\n",
    "\n",
    "                    a = np.array((pred[i][j][0] , pred[i][j][1]))\n",
    "                    b = np.array((truth[i][j][0] , truth[i][j][1]))\n",
    "\n",
    "                    dist = np.linalg.norm(a-b)\n",
    "                    sum+=dist\n",
    "                    counter+=1\n",
    "        return (sum/counter)"
   ]
  },
  {
   "cell_type": "code",
   "execution_count": 192,
   "metadata": {},
   "outputs": [],
   "source": [
    "def load_data():\n",
    "    with open('train_input.pickle', 'rb') as data:\n",
    "     train_input = pickle.load(data)\n",
    "    with open('validate_input.pickle', 'rb') as data:\n",
    "         validate_input= pickle.load(data)\n",
    "    with open('test_input.pickle', 'rb') as data:\n",
    "         test_input = pickle.load(data)\n",
    "    with open('train_target.pickle', 'rb') as data:\n",
    "          train_target = pickle.load(data)\n",
    "    with open('validate_target.pickle', 'rb') as data:\n",
    "          validate_target = pickle.load(data)\n",
    "    with open('test_target.pickle', 'rb') as data:\n",
    "         test_target = pickle.load(data)\n",
    "    return torch.tensor(train_input,dtype=torch.float32), torch.tensor(validate_input,dtype=torch.float32), torch.tensor(test_input,dtype=torch.float32), torch.tensor(train_target,dtype=torch.float32), torch.tensor(validate_target,dtype=torch.float32), torch.tensor(test_target,dtype=torch.float32)"
   ]
  },
  {
   "cell_type": "code",
   "execution_count": 193,
   "metadata": {},
   "outputs": [
    {
     "name": "stdout",
     "output_type": "stream",
     "text": [
      "Train shape:  torch.Size([5099, 8, 2])\n"
     ]
    }
   ],
   "source": [
    "train_input,validate_input,test_input,train_target,validate_target,test_target=load_data()\n",
    "print(\"Train shape: \" ,train_target.shape)"
   ]
  },
  {
   "cell_type": "code",
   "execution_count": 194,
   "metadata": {},
   "outputs": [],
   "source": [
    "class Dataset(torch.utils.data.Dataset):\n",
    "  'Characterizes a dataset for PyTorch'\n",
    "  def __init__(self, x, y):\n",
    "        'Initialization'\n",
    "        self.x = x\n",
    "        self.y = y\n",
    "\n",
    "  def __len__(self):\n",
    "        'Denotes the total number of samples'\n",
    "        return len(self.x)\n",
    "\n",
    "  def __getitem__(self, index):\n",
    "        # Load data and get label\n",
    "        X = self.x[index]\n",
    "        y = self.y[index]\n",
    "\n",
    "        return X, y"
   ]
  },
  {
   "cell_type": "code",
   "execution_count": 195,
   "metadata": {},
   "outputs": [],
   "source": [
    "train_dataset= Dataset(train_input, train_target)\n",
    "test_dataset= Dataset(test_input, test_target)"
   ]
  },
  {
   "cell_type": "code",
   "execution_count": 196,
   "metadata": {},
   "outputs": [],
   "source": [
    "class LinearNetwork(nn.Module):\n",
    "    def __init__(self):\n",
    "        super(LinearNetwork, self).__init__()\n",
    "        self.output_shape = (8,2)\n",
    "        self.flatten = nn.Flatten()\n",
    "        self.unflatten = nn.Unflatten(1,self.output_shape)\n",
    "        self.linear_relu_stack = nn.Sequential(\n",
    "            nn.Linear(8*2, 512),\n",
    "            nn.ReLU(),\n",
    "            nn.Linear(512, 512),\n",
    "            nn.ReLU(),\n",
    "            nn.Linear(512, 8*2),\n",
    "        )\n",
    "\n",
    "    def forward(self, x):\n",
    "        x = self.flatten(x)\n",
    "        # print(x[0])\n",
    "        logits = self.linear_relu_stack(x)\n",
    "        out = self.unflatten(logits)\n",
    "        # print(out[0])\n",
    "        return out"
   ]
  },
  {
   "cell_type": "code",
   "execution_count": 197,
   "metadata": {},
   "outputs": [
    {
     "name": "stdout",
     "output_type": "stream",
     "text": [
      "Using cuda device\n"
     ]
    }
   ],
   "source": [
    "device = \"cuda\" if torch.cuda.is_available() else \"cpu\"\n",
    "print(f\"Using {device} device\")"
   ]
  },
  {
   "cell_type": "code",
   "execution_count": 198,
   "metadata": {},
   "outputs": [
    {
     "name": "stdout",
     "output_type": "stream",
     "text": [
      "LinearNetwork(\n",
      "  (flatten): Flatten(start_dim=1, end_dim=-1)\n",
      "  (unflatten): Unflatten(dim=1, unflattened_size=(8, 2))\n",
      "  (linear_relu_stack): Sequential(\n",
      "    (0): Linear(in_features=16, out_features=512, bias=True)\n",
      "    (1): ReLU()\n",
      "    (2): Linear(in_features=512, out_features=512, bias=True)\n",
      "    (3): ReLU()\n",
      "    (4): Linear(in_features=512, out_features=16, bias=True)\n",
      "  )\n",
      ")\n"
     ]
    }
   ],
   "source": [
    "model = LinearNetwork().to(device)\n",
    "print(model)"
   ]
  },
  {
   "cell_type": "code",
   "execution_count": 199,
   "metadata": {},
   "outputs": [],
   "source": [
    "loss_fn = nn.MSELoss()\n",
    "optimizer = torch.optim.RMSprop(model.parameters())"
   ]
  },
  {
   "cell_type": "code",
   "execution_count": 200,
   "metadata": {},
   "outputs": [
    {
     "data": {
      "text/plain": [
       "True"
      ]
     },
     "execution_count": 200,
     "metadata": {},
     "output_type": "execute_result"
    }
   ],
   "source": [
    "train_input. requires_grad = True\n",
    "train_input = train_input.to(device)\n",
    "train_target = train_target.to(device)\n",
    "train_input. requires_grad "
   ]
  },
  {
   "cell_type": "code",
   "execution_count": 201,
   "metadata": {},
   "outputs": [
    {
     "name": "stdout",
     "output_type": "stream",
     "text": [
      "0 tensor(44.4147, device='cuda:0')\n",
      "300 tensor(3.4098, device='cuda:0')\n",
      "600 tensor(4.6216, device='cuda:0')\n",
      "900 tensor(0.6567, device='cuda:0')\n",
      "1200 tensor(0.9566, device='cuda:0')\n",
      "1500 tensor(1.0923, device='cuda:0')\n",
      "1800 tensor(0.9626, device='cuda:0')\n",
      "2100 tensor(0.6699, device='cuda:0')\n",
      "2400 tensor(0.5327, device='cuda:0')\n",
      "2700 tensor(0.3686, device='cuda:0')\n"
     ]
    }
   ],
   "source": [
    "def train():\n",
    "    for epoch in range(3000):\n",
    "        y_pred = model(train_input) # make a prediction\n",
    "        loss = loss_fn(y_pred,train_target) # compute the loss\n",
    "        optimizer.zero_grad() # prepare the optimizer\n",
    "        loss.backward() # compute the contribution of each parameter to the loss\n",
    "        optimizer.step() # modify the parameters\n",
    "\n",
    "        if epoch % 300 == 0:\n",
    "            print(epoch, loss.data)\n",
    "\n",
    "train()"
   ]
  },
  {
   "cell_type": "code",
   "execution_count": 202,
   "metadata": {},
   "outputs": [],
   "source": [
    "def show_error_double(prediction_train,prediction_test,train_target,test_target):\n",
    "                # # Show error rate\n",
    "        print(\"AVERAGE DISTANCE BETWEEN FIRST AND LAST POINT Train: \",prediction_displacement_double(train_target))\n",
    "        print(\"AVERAGE DISTANCE BETWEEN FIRST AND LAST POINT Test: \",prediction_displacement_double(test_target))\n",
    "             \n",
    "        #average_displacement_error\n",
    "        print(\"ADE ERROR RATE TEST: \", ADE_double_coordinates(prediction_test,test_target))\n",
    "        #average_displacement_error\n",
    "        print(\"ADE ERROR RATE TRAIN: \", ADE_double_coordinates(prediction_train,train_target))\n",
    "        print(\"//////////////////////////////////////////\")\n",
    "        #Final_displacement_error\n",
    "        print(\"FDE ERROR RATE TEST: \", FDE_double_coordinates(prediction_test,test_target))\n",
    "        print(\"FDE ERROR RATE TRAIN: \", FDE_double_coordinates(prediction_train,train_target))\n"
   ]
  },
  {
   "cell_type": "code",
   "execution_count": 203,
   "metadata": {},
   "outputs": [],
   "source": [
    "class ShallowRegressionLSTM(nn.Module):\n",
    "    def __init__(self, num_features, hidden_units,out_features=16,isseq=True):\n",
    "        super().__init__()\n",
    "        self.seq = isseq\n",
    "        self.num_features = num_features  # this is the number of features\n",
    "        self.hidden_units = hidden_units\n",
    "        self.num_layers = 1\n",
    "\n",
    "        self.lstm = nn.LSTM(\n",
    "            input_size=num_features,\n",
    "            hidden_size=hidden_units,\n",
    "            batch_first=True,\n",
    "            num_layers=self.num_layers\n",
    "        )\n",
    "\n",
    "        self.linear = nn.Linear(in_features=self.hidden_units, out_features=out_features)\n",
    "\n",
    "    def forward(self, x):\n",
    "        batch_size = x.shape[0]\n",
    "        # print(\"batch_size\",batch_size)\n",
    "        h0 = torch.zeros(self.num_layers, batch_size, self.hidden_units).requires_grad_().to(device)\n",
    "        c0 = torch.zeros(self.num_layers, batch_size, self.hidden_units).requires_grad_().to(device)\n",
    "        \n",
    "        _, (hn, _) = self.lstm(x, (h0, c0))\n",
    "        if(self.seq):\n",
    "            out = self.linear(hn[0]).reshape(batch_size,8,2) # First dim of Hn is num_layers, which is set to 1 above.\n",
    "        else:\n",
    "            out = self.linear(hn[0])\n",
    "        return out"
   ]
  },
  {
   "cell_type": "code",
   "execution_count": 204,
   "metadata": {},
   "outputs": [],
   "source": [
    "learning_rate = 5e-5\n",
    "num_hidden_units = 16\n",
    "hidden_size = 12\n",
    "n_features = 2\n",
    "num_layers = 1\n",
    "batch_size = 5\n",
    "\n",
    "LSTM_model = ShallowRegressionLSTM(num_features=n_features, hidden_units=num_hidden_units).to(device)\n",
    "loss_function = nn.MSELoss()\n",
    "optimizer = torch.optim.Adam(LSTM_model.parameters(), lr=learning_rate)"
   ]
  },
  {
   "cell_type": "code",
   "execution_count": 205,
   "metadata": {},
   "outputs": [],
   "source": [
    "train_loader = torch.utils.data.DataLoader(train_dataset, batch_size)"
   ]
  },
  {
   "cell_type": "code",
   "execution_count": 206,
   "metadata": {},
   "outputs": [],
   "source": [
    "def train_model(data_loader, model, loss_function, optimizer,epochs=10):\n",
    "    num_batches = len(data_loader)\n",
    "    total_loss = 0\n",
    "    model.train()\n",
    "    \n",
    "    for i in range (epochs):\n",
    "        total_loss = 0\n",
    "        for X, y in data_loader:\n",
    "            X = X.to(device)\n",
    "            y = y.to(device)\n",
    "            output = model(X)\n",
    "            # print(output.shape)\n",
    "            # print(y.shape)\n",
    "            loss = loss_function(output, y)\n",
    "\n",
    "            optimizer.zero_grad()\n",
    "            loss.backward()\n",
    "            optimizer.step()\n",
    "\n",
    "            total_loss += loss.item()\n",
    "\n",
    "        avg_loss = total_loss / num_batches\n",
    "        if (i+1)%5 == 0:\n",
    "            print(f\"Epoch {i+1} train loss: {avg_loss}\")\n",
    "    print(f\"Epoch {i+1} train loss: {avg_loss}\")"
   ]
  },
  {
   "cell_type": "code",
   "execution_count": 207,
   "metadata": {},
   "outputs": [
    {
     "name": "stdout",
     "output_type": "stream",
     "text": [
      "Epoch 5 train loss: 11.921174219747384\n",
      "Epoch 10 train loss: 5.8338596842160415\n",
      "Epoch 15 train loss: 4.6835702761286395\n",
      "Epoch 20 train loss: 3.8820500287642776\n",
      "Epoch 25 train loss: 3.0930462453934346\n",
      "Epoch 30 train loss: 2.4413674871715734\n",
      "Epoch 35 train loss: 1.9109866527064392\n",
      "Epoch 40 train loss: 1.4490139585330755\n",
      "Epoch 45 train loss: 1.06681314031\n",
      "Epoch 50 train loss: 0.81353572804216\n",
      "Epoch 55 train loss: 0.6509989296994628\n",
      "Epoch 60 train loss: 0.5353479399058201\n",
      "Epoch 65 train loss: 0.4502096973373281\n",
      "Epoch 70 train loss: 0.3871076581077468\n",
      "Epoch 75 train loss: 0.3406891250925814\n",
      "Epoch 80 train loss: 0.30678242757738405\n",
      "Epoch 85 train loss: 0.28163101701613735\n",
      "Epoch 90 train loss: 0.2623961938924028\n",
      "Epoch 95 train loss: 0.24720369844866333\n",
      "Epoch 96 train loss: 0.24453534181709127\n"
     ]
    }
   ],
   "source": [
    "train_model(train_loader, LSTM_model, loss_function, optimizer,epochs=96)"
   ]
  },
  {
   "cell_type": "code",
   "execution_count": 208,
   "metadata": {},
   "outputs": [
    {
     "name": "stdout",
     "output_type": "stream",
     "text": [
      "tensor(0.3520, device='cuda:0')\n"
     ]
    }
   ],
   "source": [
    "with torch.no_grad():\n",
    "    test_input = test_input.to(device)\n",
    "    test_pred = LSTM_model(test_input)\n",
    "    train_pred = LSTM_model(train_input)\n",
    "    loss = loss_fn(test_target.to(device), test_pred)\n",
    "    print(loss.data)"
   ]
  },
  {
   "cell_type": "code",
   "execution_count": 209,
   "metadata": {},
   "outputs": [
    {
     "name": "stdout",
     "output_type": "stream",
     "text": [
      "AVERAGE DISTANCE BETWEEN FIRST AND LAST POINT Train:  1.7491152588806866\n",
      "AVERAGE DISTANCE BETWEEN FIRST AND LAST POINT Test:  2.7941778349259665\n",
      "ADE ERROR RATE TEST:  0.6447183671631277\n",
      "ADE ERROR RATE TRAIN:  0.47018285400356674\n",
      "//////////////////////////////////////////\n",
      "FDE ERROR RATE TEST:  0.9433430100349269\n",
      "FDE ERROR RATE TRAIN:  0.7153915793299427\n"
     ]
    }
   ],
   "source": [
    "train_pred = train_pred.cpu()\n",
    "test_pred = test_pred.cpu()\n",
    "train_target = train_target.cpu()\n",
    "test_target = test_target.cpu()\n",
    "show_error_double(train_pred,test_pred,train_target,test_target)"
   ]
  },
  {
   "cell_type": "code",
   "execution_count": 210,
   "metadata": {},
   "outputs": [],
   "source": [
    "# Predicting only one point in the future\n",
    "train_target_one = train_target[:,0,:]\n",
    "test_target_one = test_target[:,0,:]\n",
    "train_dataset_one= Dataset(train_input, train_target_one)\n",
    "test_dataset_one= Dataset(test_input, test_target_one)\n",
    "train_loader_one = torch.utils.data.DataLoader(train_dataset_one, batch_size)\n",
    "test_loader_one = torch.utils.data.DataLoader(test_dataset_one, batch_size)"
   ]
  },
  {
   "cell_type": "code",
   "execution_count": 211,
   "metadata": {},
   "outputs": [],
   "source": [
    "learning_rate = 5e-5\n",
    "num_hidden_units = 16\n",
    "hidden_size = 12\n",
    "n_features = 2\n",
    "num_layers = 1\n",
    "batch_size = 5\n",
    "\n",
    "LSTM_model2 = ShallowRegressionLSTM(num_features=n_features, hidden_units=num_hidden_units,out_features=2,isseq=False).to(device)\n",
    "loss_function = nn.MSELoss()\n",
    "optimizer = torch.optim.Adam(LSTM_model2.parameters(), lr=learning_rate)"
   ]
  },
  {
   "cell_type": "code",
   "execution_count": 212,
   "metadata": {},
   "outputs": [
    {
     "name": "stdout",
     "output_type": "stream",
     "text": [
      "Epoch 5 train loss: 9.098584027880547\n",
      "Epoch 10 train loss: 3.919183443910351\n",
      "Epoch 15 train loss: 2.2395439366279306\n",
      "Epoch 20 train loss: 1.236988972452566\n",
      "Epoch 25 train loss: 0.6355652788233146\n",
      "Epoch 30 train loss: 0.35086980634106807\n",
      "Epoch 35 train loss: 0.22173020327020768\n",
      "Epoch 40 train loss: 0.15217323287189155\n",
      "Epoch 45 train loss: 0.10936485072412039\n",
      "Epoch 50 train loss: 0.0812590852086075\n",
      "Epoch 55 train loss: 0.06272722121991893\n",
      "Epoch 60 train loss: 0.05038758100058564\n",
      "Epoch 65 train loss: 0.04179070288220302\n",
      "Epoch 70 train loss: 0.03550198348118857\n",
      "Epoch 75 train loss: 0.03069484297730003\n",
      "Epoch 80 train loss: 0.02690700448065444\n",
      "Epoch 85 train loss: 0.02387082971217985\n",
      "Epoch 90 train loss: 0.021379606307270843\n",
      "Epoch 95 train loss: 0.019288486266656173\n",
      "Epoch 96 train loss: 0.018909652399711086\n"
     ]
    }
   ],
   "source": [
    "train_model(train_loader_one, LSTM_model2, loss_function, optimizer,epochs=96)"
   ]
  },
  {
   "cell_type": "code",
   "execution_count": 213,
   "metadata": {},
   "outputs": [
    {
     "name": "stdout",
     "output_type": "stream",
     "text": [
      "loss_train: 0.020250355824828148 \n",
      "loss_test: 0.04781636223196983\n"
     ]
    }
   ],
   "source": [
    "with torch.no_grad():\n",
    "    test_pred_one= LSTM_model2(test_input)\n",
    "    train_pred_one = LSTM_model2(train_input)\n",
    "    loss_train = loss_fn(train_target_one.to(device), train_pred_one)\n",
    "    loss_test = loss_fn(test_target_one.to(device), test_pred_one)\n",
    "    print(f'loss_train: {loss_train.data} \\nloss_test: {loss_test.data}')"
   ]
  },
  {
   "cell_type": "code",
   "execution_count": 214,
   "metadata": {},
   "outputs": [
    {
     "name": "stdout",
     "output_type": "stream",
     "text": [
      "AVERAGE DISTANCE BETWEEN FIRST AND LAST POINT Train:  0.0\n",
      "AVERAGE DISTANCE BETWEEN FIRST AND LAST POINT Test:  0.0\n",
      "////////////////////////////////////////////////\n",
      "ADE ERROR RATE TEST:  0.22939957388595236\n",
      "ADE ERROR RATE TRAIN:  0.14248777631368229\n",
      "//////////////////////////////////////////\n",
      "FDE ERROR RATE TEST:  0.22939957388595236\n",
      "FDE ERROR RATE TRAIN:  0.14248777631368229\n"
     ]
    }
   ],
   "source": [
    "train_pred_one = train_pred_one.cpu()\n",
    "test_pred_one = test_pred_one.cpu()\n",
    "train_target_one = train_target_one.cpu()\n",
    "test_target_one = test_target_one.cpu()\n",
    "show_error_single(train_pred_one,test_pred_one,train_target_one,test_target_one)"
   ]
  },
  {
   "cell_type": "markdown",
   "metadata": {},
   "source": [
    "# Gaussian Distribution Functions"
   ]
  },
  {
   "cell_type": "code",
   "execution_count": 215,
   "metadata": {},
   "outputs": [],
   "source": [
    "oneDivSqrtTwoPI = 1.0 / np.sqrt(2.0*np.pi) # normalization factor for Gaussians\n",
    "def gaussian_distribution(y, mu, sigma):\n",
    "    # make |mu|=K copies of y, subtract mu, divide by sigma\n",
    "    result = (y.expand_as(mu) - mu) * torch.reciprocal(sigma)\n",
    "    result = -0.5 * (result * result)\n",
    "    return (torch.exp(result) * torch.reciprocal(sigma)) * oneDivSqrtTwoPI\n",
    "\n",
    "def mdn_loss_fn(pi, sigma, mu, y):\n",
    "    result = gaussian_distribution(y, mu, sigma) * pi\n",
    "    print(\"result1: \",result.shape)\n",
    "    result = torch.sum(result, dim=1)\n",
    "    print(\"result after sum: \",result.shape)\n",
    "    result = -torch.log(result)\n",
    "    print(\"result after log: \",result.shape)\n",
    "    return torch.mean(result)"
   ]
  },
  {
   "cell_type": "code",
   "execution_count": 216,
   "metadata": {},
   "outputs": [],
   "source": [
    "class MDN(nn.Module):\n",
    "    def __init__(self,n_hidden, n_gaussians,input_shape = 16):\n",
    "        super(MDN, self).__init__()\n",
    "        self.z_h = nn.Sequential(\n",
    "            nn.Linear(input_shape, n_hidden),\n",
    "            nn.Tanh()\n",
    "        )\n",
    "        self.z_pi = nn.Linear(n_hidden, n_gaussians).to(device)\n",
    "        self.z_sigma = nn.Linear(n_hidden, n_gaussians).to(device)\n",
    "        self.z_mu = nn.Linear(n_hidden, n_gaussians).to(device)  \n",
    "\n",
    "    def forward(self, x):\n",
    "        print(\"x.shape: \",x.shape)\n",
    "        z_h = self.z_h(x).to(device)\n",
    "        pi = nn.functional.softmax(self.z_pi(z_h), -1).to(device)\n",
    "        sigma = torch.exp(self.z_sigma(z_h)).to(device)\n",
    "        mu = self.z_mu(z_h).to(device)\n",
    "        return pi, sigma, mu"
   ]
  },
  {
   "cell_type": "code",
   "execution_count": 217,
   "metadata": {},
   "outputs": [],
   "source": [
    "network = MDN(n_hidden=20, n_gaussians=5).to(device)"
   ]
  },
  {
   "cell_type": "code",
   "execution_count": 218,
   "metadata": {},
   "outputs": [
    {
     "data": {
      "text/plain": [
       "<bound method Module.parameters of MDN(\n",
       "  (z_h): Sequential(\n",
       "    (0): Linear(in_features=16, out_features=20, bias=True)\n",
       "    (1): Tanh()\n",
       "  )\n",
       "  (z_pi): Linear(in_features=20, out_features=5, bias=True)\n",
       "  (z_sigma): Linear(in_features=20, out_features=5, bias=True)\n",
       "  (z_mu): Linear(in_features=20, out_features=5, bias=True)\n",
       ")>"
      ]
     },
     "execution_count": 218,
     "metadata": {},
     "output_type": "execute_result"
    }
   ],
   "source": [
    "network.parameters"
   ]
  },
  {
   "cell_type": "code",
   "execution_count": 219,
   "metadata": {},
   "outputs": [
    {
     "name": "stdout",
     "output_type": "stream",
     "text": [
      "x.shape:  torch.Size([3, 16])\n"
     ]
    },
    {
     "data": {
      "text/plain": [
       "(tensor([[0.1857, 0.2788, 0.2562, 0.1047, 0.1746],\n",
       "         [0.2478, 0.2188, 0.2686, 0.1326, 0.1322],\n",
       "         [0.2371, 0.2173, 0.2645, 0.1333, 0.1478]], device='cuda:0',\n",
       "        grad_fn=<SoftmaxBackward0>),\n",
       " tensor([[1.3837, 0.8873, 1.0609, 0.8939, 0.7171],\n",
       "         [1.2769, 0.5515, 1.0111, 0.7485, 0.7852],\n",
       "         [1.3288, 0.6447, 1.0237, 0.6420, 0.8246]], device='cuda:0',\n",
       "        grad_fn=<ExpBackward0>),\n",
       " tensor([[-0.2067, -0.3648,  0.0623, -0.0903,  0.1363],\n",
       "         [-0.3006, -0.5080,  0.0704, -0.0268, -0.1274],\n",
       "         [-0.1861, -0.4024, -0.0249, -0.1195, -0.1893]], device='cuda:0',\n",
       "        grad_fn=<AddmmBackward0>))"
      ]
     },
     "execution_count": 219,
     "metadata": {},
     "output_type": "execute_result"
    }
   ],
   "source": [
    "input = torch.rand(3,8,2).to(device)\n",
    "# input = torch.rand(8,1).to(device)\n",
    "input = torch.flatten(input,1)\n",
    "pi, sigma, mu = network(input)\n",
    "pi, sigma, mu"
   ]
  },
  {
   "cell_type": "code",
   "execution_count": 220,
   "metadata": {},
   "outputs": [
    {
     "name": "stdout",
     "output_type": "stream",
     "text": [
      "x.shape:  torch.Size([2, 10, 16])\n",
      "----------------------------------------------------------------\n",
      "        Layer (type)               Output Shape         Param #\n",
      "================================================================\n",
      "            Linear-1               [-1, 10, 20]             340\n",
      "              Tanh-2               [-1, 10, 20]               0\n",
      "            Linear-3                [-1, 10, 5]             105\n",
      "            Linear-4                [-1, 10, 5]             105\n",
      "            Linear-5                [-1, 10, 5]             105\n",
      "================================================================\n",
      "Total params: 655\n",
      "Trainable params: 655\n",
      "Non-trainable params: 0\n",
      "----------------------------------------------------------------\n",
      "Input size (MB): 0.00\n",
      "Forward/backward pass size (MB): 0.00\n",
      "Params size (MB): 0.00\n",
      "Estimated Total Size (MB): 0.01\n",
      "----------------------------------------------------------------\n"
     ]
    }
   ],
   "source": [
    "from torchsummary import summary\n",
    "input = (10,16)\n",
    "summary(network,input)"
   ]
  },
  {
   "cell_type": "code",
   "execution_count": 243,
   "metadata": {},
   "outputs": [],
   "source": [
    "import matplotlib.pyplot as plt\n",
    "from matplotlib import cm\n",
    "from mpl_toolkits.mplot3d import Axes3D\n",
    "# Our 2-dimensional distribution will be over variables X and Y\n",
    "N = 8\n",
    "X = np.linspace(-3, 3, N)\n",
    "Y = np.linspace(-3, 4, N)\n",
    "X, Y = np.meshgrid(X, Y)\n",
    "\n",
    "# Mean vector and covariance matrix\n",
    "mu = np.array([3., 4.])\n",
    "Sigma = np.array([[ 1. , 0.], [0,  1.]])\n",
    "\n",
    "# Pack X and Y into a single 3-dimensional array\n",
    "pos = np.empty(X.shape + (2,))\n",
    "pos[:, :, 0] = X\n",
    "pos[:, :, 1] = Y\n"
   ]
  },
  {
   "cell_type": "code",
   "execution_count": 353,
   "metadata": {},
   "outputs": [],
   "source": [
    "\n",
    "def multivariate_gaussian_older(pos, mu, Sigma):\n",
    "    \"\"\"Return the multivariate Gaussian distribution on array pos.\n",
    "\n",
    "    pos is an array constructed by packing the meshed arrays of variables\n",
    "    x_1, x_2, x_3, ..., x_k into its _last_ dimension.\n",
    "\n",
    "    \"\"\"\n",
    "\n",
    "    n = mu.shape[0]\n",
    "    Sigma_det = np.linalg.det(Sigma)\n",
    "    Sigma_inv = np.linalg.inv(Sigma)\n",
    "    N = np.sqrt((2*np.pi)**n * Sigma_det)\n",
    "    # This einsum call calculates (x-mu)T.Sigma-1.(x-mu) in a vectorized\n",
    "    # way across all the input variables.\n",
    "    print(\"Old multivariate distribution\")\n",
    "    print(f\"mu.shape: {mu.shape}, Sigma: {Sigma.shape}\")\n",
    "    fac = np.einsum('...k,kl,...l->...', pos-mu, Sigma_inv, pos-mu)\n",
    "\n",
    "    return np.exp(-fac / 2) / N\n",
    "\n"
   ]
  },
  {
   "cell_type": "markdown",
   "metadata": {},
   "source": [
    "$$\n",
    "p(\\boldsymbol{x}; \\boldsymbol{\\mu}, \\boldsymbol{\\Sigma}) = \\frac{1}{\\sqrt{(2\\pi)^n|\\boldsymbol{\\Sigma}|}} \\exp\\left( -\\frac{1}{2}(\\boldsymbol{x}-\\boldsymbol{\\mu})^\\mathrm{T}\\boldsymbol{\\Sigma}^{-1}(\\boldsymbol{x}-\\boldsymbol{\\mu})\\right)\n",
    "\n",
    "$$"
   ]
  },
  {
   "cell_type": "code",
   "execution_count": 357,
   "metadata": {},
   "outputs": [],
   "source": [
    "def multivariate_gaussian(pos, mu, Sigma):\n",
    "    \"\"\"Return the multivariate Gaussian distribution on array pos.\n",
    "    pos is an array constructed by packing the meshed arrays of variables\n",
    "    x_1, x_2, x_3, ..., x_k into its _last_ dimension.\n",
    "    \"\"\"\n",
    "   # Bivariate\n",
    "    n = 2\n",
    "    dims = Sigma.ndim\n",
    "    if dims > 2:\n",
    "        results = []\n",
    "        print(\"Multi-Dimentional-New\")\n",
    "        for pos_i,sigma_i,mu_i in zip(pos,Sigma,mu):\n",
    "            Sigma_det = np.linalg.det(sigma_i)\n",
    "            Sigma_inv = np.linalg.inv(sigma_i)\n",
    "            N = np.sqrt((2*np.pi)**n * Sigma_det)\n",
    "            pos_mu = pos_i-mu_i\n",
    "           #print(f\"mu.shape: {mu_i.shape}, Sigma: {sigma_i.shape} , N.shape: {N},pos.shape {pos_i.shape} pos_mu.shape {pos_mu.shape}\")\n",
    "            fac = np.einsum('...k,kl,...l->...', pos_mu, Sigma_inv, pos_mu)\n",
    "            result_i = np.exp(-fac / 2) / N\n",
    "            results.append(result_i)\n",
    "        \n",
    "        return np.array(results) \n",
    "\n",
    "    else:\n",
    "        Sigma_det = np.linalg.det(Sigma)\n",
    "        Sigma_inv = np.linalg.inv(Sigma)\n",
    "        N = np.sqrt((2*np.pi)**n * Sigma_det)\n",
    "        # This einsum call calculates (x-mu)T.Sigma-1.(x-mu) in a vectorized\n",
    "        # way across all the input variables.\n",
    "        \n",
    "        pos_mu = pos-mu\n",
    "        print(f\"mu.shape: {mu.shape}, Sigma: {Sigma.shape} , N.shape: {N},pos.shape {pos.shape} pos_mu.shape {pos_mu.shape}\")\n",
    "        fac = np.einsum('...k,kl,...l->...', pos_mu, Sigma_inv, pos_mu)\n",
    "\n",
    "        return np.exp(-fac / 2) / N\n"
   ]
  },
  {
   "cell_type": "code",
   "execution_count": 366,
   "metadata": {},
   "outputs": [
    {
     "data": {
      "text/plain": [
       "(array([[[[1, 0],\n",
       "          [0, 1]],\n",
       " \n",
       "         [[1, 0],\n",
       "          [0, 1]],\n",
       " \n",
       "         [[1, 0],\n",
       "          [0, 1]],\n",
       " \n",
       "         [[1, 0],\n",
       "          [0, 1]],\n",
       " \n",
       "         [[1, 0],\n",
       "          [0, 1]]],\n",
       " \n",
       " \n",
       "        [[[1, 0],\n",
       "          [0, 1]],\n",
       " \n",
       "         [[1, 0],\n",
       "          [0, 1]],\n",
       " \n",
       "         [[1, 0],\n",
       "          [0, 1]],\n",
       " \n",
       "         [[1, 0],\n",
       "          [0, 1]],\n",
       " \n",
       "         [[1, 0],\n",
       "          [0, 1]]],\n",
       " \n",
       " \n",
       "        [[[1, 0],\n",
       "          [0, 1]],\n",
       " \n",
       "         [[1, 0],\n",
       "          [0, 1]],\n",
       " \n",
       "         [[1, 0],\n",
       "          [0, 1]],\n",
       " \n",
       "         [[1, 0],\n",
       "          [0, 1]],\n",
       " \n",
       "         [[1, 0],\n",
       "          [0, 1]]],\n",
       " \n",
       " \n",
       "        [[[1, 0],\n",
       "          [0, 1]],\n",
       " \n",
       "         [[1, 0],\n",
       "          [0, 1]],\n",
       " \n",
       "         [[1, 0],\n",
       "          [0, 1]],\n",
       " \n",
       "         [[1, 0],\n",
       "          [0, 1]],\n",
       " \n",
       "         [[1, 0],\n",
       "          [0, 1]]],\n",
       " \n",
       " \n",
       "        [[[1, 0],\n",
       "          [0, 1]],\n",
       " \n",
       "         [[1, 0],\n",
       "          [0, 1]],\n",
       " \n",
       "         [[1, 0],\n",
       "          [0, 1]],\n",
       " \n",
       "         [[1, 0],\n",
       "          [0, 1]],\n",
       " \n",
       "         [[1, 0],\n",
       "          [0, 1]]],\n",
       " \n",
       " \n",
       "        [[[1, 0],\n",
       "          [0, 1]],\n",
       " \n",
       "         [[1, 0],\n",
       "          [0, 1]],\n",
       " \n",
       "         [[1, 0],\n",
       "          [0, 1]],\n",
       " \n",
       "         [[1, 0],\n",
       "          [0, 1]],\n",
       " \n",
       "         [[1, 0],\n",
       "          [0, 1]]]]),\n",
       " tensor([[[[1, 0],\n",
       "           [0, 1]],\n",
       " \n",
       "          [[1, 0],\n",
       "           [0, 1]],\n",
       " \n",
       "          [[1, 0],\n",
       "           [0, 1]],\n",
       " \n",
       "          [[1, 0],\n",
       "           [0, 1]],\n",
       " \n",
       "          [[1, 0],\n",
       "           [0, 1]]],\n",
       " \n",
       " \n",
       "         [[[1, 0],\n",
       "           [0, 1]],\n",
       " \n",
       "          [[1, 0],\n",
       "           [0, 1]],\n",
       " \n",
       "          [[1, 0],\n",
       "           [0, 1]],\n",
       " \n",
       "          [[1, 0],\n",
       "           [0, 1]],\n",
       " \n",
       "          [[1, 0],\n",
       "           [0, 1]]],\n",
       " \n",
       " \n",
       "         [[[1, 0],\n",
       "           [0, 1]],\n",
       " \n",
       "          [[1, 0],\n",
       "           [0, 1]],\n",
       " \n",
       "          [[1, 0],\n",
       "           [0, 1]],\n",
       " \n",
       "          [[1, 0],\n",
       "           [0, 1]],\n",
       " \n",
       "          [[1, 0],\n",
       "           [0, 1]]],\n",
       " \n",
       " \n",
       "         [[[1, 0],\n",
       "           [0, 1]],\n",
       " \n",
       "          [[1, 0],\n",
       "           [0, 1]],\n",
       " \n",
       "          [[1, 0],\n",
       "           [0, 1]],\n",
       " \n",
       "          [[1, 0],\n",
       "           [0, 1]],\n",
       " \n",
       "          [[1, 0],\n",
       "           [0, 1]]],\n",
       " \n",
       " \n",
       "         [[[1, 0],\n",
       "           [0, 1]],\n",
       " \n",
       "          [[1, 0],\n",
       "           [0, 1]],\n",
       " \n",
       "          [[1, 0],\n",
       "           [0, 1]],\n",
       " \n",
       "          [[1, 0],\n",
       "           [0, 1]],\n",
       " \n",
       "          [[1, 0],\n",
       "           [0, 1]]],\n",
       " \n",
       " \n",
       "         [[[1, 0],\n",
       "           [0, 1]],\n",
       " \n",
       "          [[1, 0],\n",
       "           [0, 1]],\n",
       " \n",
       "          [[1, 0],\n",
       "           [0, 1]],\n",
       " \n",
       "          [[1, 0],\n",
       "           [0, 1]],\n",
       " \n",
       "          [[1, 0],\n",
       "           [0, 1]]]]))"
      ]
     },
     "execution_count": 366,
     "metadata": {},
     "output_type": "execute_result"
    }
   ],
   "source": [
    "Sigmaaa = np.broadcast_to(Sigma,(6,5,2,2))\n",
    "s = torch.tensor(Sigmaaa)\n",
    "x = torch.tensor([[1,0],[0,1]])\n",
    "abc = x.expand_as(s)\n",
    "cba = np.broadcast_to(x,Sigmaaa.shape)\n",
    "cba,abc"
   ]
  },
  {
   "cell_type": "code",
   "execution_count": 339,
   "metadata": {},
   "outputs": [
    {
     "data": {
      "text/plain": [
       "(array([[ 0,  1,  2,  3,  4],\n",
       "        [ 5,  6,  7,  8,  9],\n",
       "        [10, 11, 12, 13, 14],\n",
       "        [15, 16, 17, 18, 19],\n",
       "        [20, 21, 22, 23, 24]]),\n",
       " array([0, 1, 2, 3, 4]),\n",
       " array([ 30,  80, 130, 180, 230]))"
      ]
     },
     "execution_count": 339,
     "metadata": {},
     "output_type": "execute_result"
    }
   ],
   "source": [
    "a = np.arange(25).reshape(5,5)\n",
    "b = np.arange(5)\n",
    "c = np.arange(6).reshape(2,3)\n",
    "kk = np.einsum('...i,...i', a, b)\n",
    "dd = np.einsum('..., ...', 5, c)\n",
    "a,b,kk"
   ]
  },
  {
   "cell_type": "code",
   "execution_count": 283,
   "metadata": {},
   "outputs": [
    {
     "data": {
      "text/plain": [
       "(array([[ 0,  1,  2,  3,  4],\n",
       "        [ 5,  6,  7,  8,  9],\n",
       "        [10, 11, 12, 13, 14],\n",
       "        [15, 16, 17, 18, 19],\n",
       "        [20, 21, 22, 23, 24]]),\n",
       " array([0, 1, 2, 3, 4]),\n",
       " array([ 30,  80, 130, 180, 230]))"
      ]
     },
     "execution_count": 283,
     "metadata": {},
     "output_type": "execute_result"
    }
   ],
   "source": [
    "a = np.arange(25).reshape(5,5)\n",
    "ab = np.arange(25).reshape(5,5)\n",
    "b = np.arange(5)\n",
    "c = np.einsum('ij,j', a,b)\n",
    "a,b,c"
   ]
  },
  {
   "cell_type": "code",
   "execution_count": 348,
   "metadata": {},
   "outputs": [],
   "source": [
    "poss = torch.tensor([[1,1],[2,2],[3,4],[4,6],[5,8],[6,10]])\n",
    "mues = np.broadcast_to(mu,(6,2))\n",
    "Sigmas = np.broadcast_to(Sigma,(6,2,2))\n"
   ]
  },
  {
   "cell_type": "code",
   "execution_count": 359,
   "metadata": {},
   "outputs": [
    {
     "name": "stdout",
     "output_type": "stream",
     "text": [
      "Old multivariate distribution\n",
      "mu.shape: (2,), Sigma: (2, 2)\n",
      "Multi-Dimentional-New\n"
     ]
    },
    {
     "data": {
      "text/plain": [
       "(array([2.39279779e-04, 1.30642333e-02, 1.59154943e-01, 1.30642333e-02,\n",
       "        7.22562324e-06, 2.69273918e-11]),\n",
       " array([2.39279779e-04, 1.30642333e-02, 1.59154943e-01, 1.30642333e-02,\n",
       "        7.22562324e-06, 2.69273918e-11]))"
      ]
     },
     "execution_count": 359,
     "metadata": {},
     "output_type": "execute_result"
    }
   ],
   "source": [
    "# The distribution on the variables X, Y packed into pos.\n",
    "poss = torch.tensor([[1,1],[2,2],[3,4],[4,6],[5,8],[6,10]])\n",
    "Z_Old = multivariate_gaussian_older(poss, mu, Sigma)\n",
    "Z_New = multivariate_gaussian(poss, mues, Sigmas)\n",
    "Z_Old==Z_New\n",
    "Z_Old,Z_New\n"
   ]
  },
  {
   "cell_type": "code",
   "execution_count": 328,
   "metadata": {},
   "outputs": [
    {
     "data": {
      "text/plain": [
       "(tensor([[ 1,  1],\n",
       "         [ 2,  2],\n",
       "         [ 3,  4],\n",
       "         [ 4,  6],\n",
       "         [ 5,  8],\n",
       "         [ 6, 10]]),\n",
       " array([[1., 0.],\n",
       "        [0., 1.]]))"
      ]
     },
     "execution_count": 328,
     "metadata": {},
     "output_type": "execute_result"
    }
   ],
   "source": [
    "Sigma_inv = np.linalg.inv(Sigma)\n",
    "# c = np.einsum('ij,ij', poss,Sigma_inv)\n",
    "# hm = poss[3]*Sigma_inv\n",
    "poss,Sigma_inv"
   ]
  },
  {
   "cell_type": "code",
   "execution_count": 258,
   "metadata": {},
   "outputs": [
    {
     "name": "stdout",
     "output_type": "stream",
     "text": [
      "mu.shape: (6, 2), Sigma: (6, 2, 2)\n"
     ]
    },
    {
     "ename": "ValueError",
     "evalue": "operand has more dimensions than subscripts given in einstein sum, but no '...' ellipsis provided to broadcast the extra dimensions.",
     "output_type": "error",
     "traceback": [
      "\u001b[0;31m---------------------------------------------------------------------------\u001b[0m",
      "\u001b[0;31mValueError\u001b[0m                                Traceback (most recent call last)",
      "Cell \u001b[0;32mIn [258], line 5\u001b[0m\n\u001b[1;32m      3\u001b[0m mues \u001b[38;5;241m=\u001b[39m np\u001b[38;5;241m.\u001b[39mbroadcast_to(mu,(\u001b[38;5;241m6\u001b[39m,\u001b[38;5;241m2\u001b[39m))\n\u001b[1;32m      4\u001b[0m sigmas \u001b[38;5;241m=\u001b[39m np\u001b[38;5;241m.\u001b[39mbroadcast_to(Sigma,(\u001b[38;5;241m6\u001b[39m,\u001b[38;5;241m2\u001b[39m,\u001b[38;5;241m2\u001b[39m))\n\u001b[0;32m----> 5\u001b[0m Z \u001b[38;5;241m=\u001b[39m \u001b[43mmultivariate_gaussian\u001b[49m\u001b[43m(\u001b[49m\u001b[43mposs\u001b[49m\u001b[43m,\u001b[49m\u001b[43m \u001b[49m\u001b[43mmues\u001b[49m\u001b[43m,\u001b[49m\u001b[43m \u001b[49m\u001b[43msigmas\u001b[49m\u001b[43m)\u001b[49m\n\u001b[1;32m      6\u001b[0m \u001b[38;5;66;03m# # Z.shape,mu.shape,Sigma.shape\u001b[39;00m\n\u001b[1;32m      7\u001b[0m \u001b[38;5;66;03m# Z,np.argmax(Z), poss[2]\u001b[39;00m\n",
      "Cell \u001b[0;32mIn [250], line 16\u001b[0m, in \u001b[0;36mmultivariate_gaussian\u001b[0;34m(pos, mu, Sigma)\u001b[0m\n\u001b[1;32m     13\u001b[0m \u001b[38;5;66;03m# This einsum call calculates (x-mu)T.Sigma-1.(x-mu) in a vectorized\u001b[39;00m\n\u001b[1;32m     14\u001b[0m \u001b[38;5;66;03m# way across all the input variables.\u001b[39;00m\n\u001b[1;32m     15\u001b[0m \u001b[38;5;28mprint\u001b[39m(\u001b[38;5;124mf\u001b[39m\u001b[38;5;124m\"\u001b[39m\u001b[38;5;124mmu.shape: \u001b[39m\u001b[38;5;132;01m{\u001b[39;00mmu\u001b[38;5;241m.\u001b[39mshape\u001b[38;5;132;01m}\u001b[39;00m\u001b[38;5;124m, Sigma: \u001b[39m\u001b[38;5;132;01m{\u001b[39;00mSigma\u001b[38;5;241m.\u001b[39mshape\u001b[38;5;132;01m}\u001b[39;00m\u001b[38;5;124m\"\u001b[39m)\n\u001b[0;32m---> 16\u001b[0m fac \u001b[38;5;241m=\u001b[39m \u001b[43mnp\u001b[49m\u001b[38;5;241;43m.\u001b[39;49m\u001b[43meinsum\u001b[49m\u001b[43m(\u001b[49m\u001b[38;5;124;43m'\u001b[39;49m\u001b[38;5;124;43m...k,kl,...l->...\u001b[39;49m\u001b[38;5;124;43m'\u001b[39;49m\u001b[43m,\u001b[49m\u001b[43m \u001b[49m\u001b[43mpos\u001b[49m\u001b[38;5;241;43m-\u001b[39;49m\u001b[43mmu\u001b[49m\u001b[43m,\u001b[49m\u001b[43m \u001b[49m\u001b[43mSigma_inv\u001b[49m\u001b[43m,\u001b[49m\u001b[43m \u001b[49m\u001b[43mpos\u001b[49m\u001b[38;5;241;43m-\u001b[39;49m\u001b[43mmu\u001b[49m\u001b[43m)\u001b[49m\n\u001b[1;32m     18\u001b[0m \u001b[38;5;28;01mreturn\u001b[39;00m np\u001b[38;5;241m.\u001b[39mexp(\u001b[38;5;241m-\u001b[39mfac \u001b[38;5;241m/\u001b[39m \u001b[38;5;241m2\u001b[39m) \u001b[38;5;241m/\u001b[39m N\n",
      "File \u001b[0;32m<__array_function__ internals>:180\u001b[0m, in \u001b[0;36meinsum\u001b[0;34m(*args, **kwargs)\u001b[0m\n",
      "File \u001b[0;32m~/.local/lib/python3.10/site-packages/numpy/core/einsumfunc.py:1371\u001b[0m, in \u001b[0;36meinsum\u001b[0;34m(out, optimize, *operands, **kwargs)\u001b[0m\n\u001b[1;32m   <a href='file:///home/avl1/.local/lib/python3.10/site-packages/numpy/core/einsumfunc.py?line=1368'>1369</a>\u001b[0m     \u001b[39mif\u001b[39;00m specified_out:\n\u001b[1;32m   <a href='file:///home/avl1/.local/lib/python3.10/site-packages/numpy/core/einsumfunc.py?line=1369'>1370</a>\u001b[0m         kwargs[\u001b[39m'\u001b[39m\u001b[39mout\u001b[39m\u001b[39m'\u001b[39m] \u001b[39m=\u001b[39m out\n\u001b[0;32m-> <a href='file:///home/avl1/.local/lib/python3.10/site-packages/numpy/core/einsumfunc.py?line=1370'>1371</a>\u001b[0m     \u001b[39mreturn\u001b[39;00m c_einsum(\u001b[39m*\u001b[39;49moperands, \u001b[39m*\u001b[39;49m\u001b[39m*\u001b[39;49mkwargs)\n\u001b[1;32m   <a href='file:///home/avl1/.local/lib/python3.10/site-packages/numpy/core/einsumfunc.py?line=1372'>1373</a>\u001b[0m \u001b[39m# Check the kwargs to avoid a more cryptic error later, without having to\u001b[39;00m\n\u001b[1;32m   <a href='file:///home/avl1/.local/lib/python3.10/site-packages/numpy/core/einsumfunc.py?line=1373'>1374</a>\u001b[0m \u001b[39m# repeat default values here\u001b[39;00m\n\u001b[1;32m   <a href='file:///home/avl1/.local/lib/python3.10/site-packages/numpy/core/einsumfunc.py?line=1374'>1375</a>\u001b[0m valid_einsum_kwargs \u001b[39m=\u001b[39m [\u001b[39m'\u001b[39m\u001b[39mdtype\u001b[39m\u001b[39m'\u001b[39m, \u001b[39m'\u001b[39m\u001b[39morder\u001b[39m\u001b[39m'\u001b[39m, \u001b[39m'\u001b[39m\u001b[39mcasting\u001b[39m\u001b[39m'\u001b[39m]\n",
      "\u001b[0;31mValueError\u001b[0m: operand has more dimensions than subscripts given in einstein sum, but no '...' ellipsis provided to broadcast the extra dimensions."
     ]
    }
   ],
   "source": [
    "# The distribution on the variables X, Y packed into pos.\n",
    "poss = torch.tensor([[1,1],[2,2],[3,4],[4,6],[5,8],[6,10]])\n",
    "mues = np.broadcast_to(mu,(6,2))\n",
    "sigmas = np.broadcast_to(Sigma,(6,2,2))\n",
    "Z = multivariate_gaussian(poss, mues, sigmas)\n",
    "# # Z.shape,mu.shape,Sigma.shape\n",
    "# Z,np.argmax(Z), poss[2]\n",
    "\n",
    "\n"
   ]
  },
  {
   "cell_type": "code",
   "execution_count": 238,
   "metadata": {},
   "outputs": [
    {
     "data": {
      "text/plain": [
       "((8, 8, 2), (2,), (2, 2))"
      ]
     },
     "execution_count": 238,
     "metadata": {},
     "output_type": "execute_result"
    }
   ],
   "source": [
    "pos.shape,mu.shape,Sigma.shape\n"
   ]
  },
  {
   "cell_type": "code",
   "execution_count": 226,
   "metadata": {},
   "outputs": [],
   "source": [
    "poss = torch.tensor([[1,1],[2,2],[3,4],[4,6],[5,8],[6,10]])"
   ]
  },
  {
   "cell_type": "code",
   "execution_count": null,
   "metadata": {},
   "outputs": [],
   "source": [
    "Z = multivariate_gaussian(pos, mu, Sigma)"
   ]
  },
  {
   "cell_type": "code",
   "execution_count": 227,
   "metadata": {},
   "outputs": [
    {
     "data": {
      "image/png": "[encoded data removed]",
      "text/plain": [
       "<Figure size 640x480 with 1 Axes>"
      ]
     },
     "metadata": {},
     "output_type": "display_data"
    }
   ],
   "source": [
    "\n",
    "# Create a surface plot and projected filled contour plot under it.\n",
    "fig = plt.figure()\n",
    "ax = fig.add_subplot(1, 1, 1, projection='3d')\n",
    "ax.plot_surface(X, Y, Z, rstride=3, cstride=3, linewidth=1, antialiased=True,\n",
    "                cmap=cm.viridis)\n",
    "\n",
    "cset = ax.contourf(X, Y, Z, zdir='z', offset=-0.15, cmap=cm.viridis)\n",
    "\n",
    "# Adjust the limits, ticks and view angle\n",
    "ax.set_zlim(-0.15,0.2)\n",
    "ax.set_zticks(np.linspace(0,0.2,5))\n",
    "ax.view_init(27, -21)\n",
    "\n",
    "plt.show()"
   ]
  },
  {
   "cell_type": "code",
   "execution_count": 228,
   "metadata": {},
   "outputs": [],
   "source": [
    "oneDivSqrtTwoPI = 1.0 / np.sqrt(2.0*np.pi) # normalization factor for Gaussians\n",
    "def gaussian_distribution(y, mu, sigma):\n",
    "    # make |mu|=K copies of y, subtract mu, divide by sigma\n",
    "    result = (y.expand_as(mu) - mu) * torch.reciprocal(sigma)\n",
    "    result = -0.5 * (result * result)\n",
    "    return (torch.exp(result) * torch.reciprocal(sigma)) * oneDivSqrtTwoPI\n",
    "\n",
    "def mdn_loss_fn(pi, sigma, mu, y):\n",
    "    result = gaussian_distribution(y, mu, sigma) * pi\n",
    "    print(\"result1: \",result.shape)\n",
    "    result = torch.sum(result, dim=1)\n",
    "    print(\"result after sum: \",result.shape)\n",
    "    result = -torch.log(result)\n",
    "    print(\"result after log: \",result.shape)\n",
    "    return torch.mean(result)"
   ]
  },
  {
   "cell_type": "code",
   "execution_count": 229,
   "metadata": {},
   "outputs": [
    {
     "name": "stderr",
     "output_type": "stream",
     "text": [
      "/tmp/ipykernel_24429/556407383.py:1: UserWarning: torch.range is deprecated and will be removed in a future release because its behavior is inconsistent with Python's range builtin. Instead, use torch.arange, which produces values in [start, end).\n",
      "  m = torch.range(1, 9)\n"
     ]
    },
    {
     "data": {
      "text/plain": [
       "(tensor([[1.],\n",
       "         [2.],\n",
       "         [3.],\n",
       "         [4.],\n",
       "         [5.],\n",
       "         [6.],\n",
       "         [7.],\n",
       "         [8.],\n",
       "         [9.]]),\n",
       " tensor([1.0000]),\n",
       " tensor([[1.3383e-04],\n",
       "         [4.4318e-03],\n",
       "         [5.3991e-02],\n",
       "         [2.4197e-01],\n",
       "         [3.9894e-01],\n",
       "         [2.4197e-01],\n",
       "         [5.3991e-02],\n",
       "         [4.4318e-03],\n",
       "         [1.3383e-04]]))"
      ]
     },
     "execution_count": 229,
     "metadata": {},
     "output_type": "execute_result"
    }
   ],
   "source": [
    "\n",
    "m = torch.range(1, 9)\n",
    "mu = torch.ones(9,1)*5\n",
    "sigma = torch.ones(9,1)\n",
    "m = m.unsqueeze(1)\n",
    "ok = gaussian_distribution(m,mu,sigma)\n",
    "m,sum(ok),ok"
   ]
  }
 ],
 "metadata": {
  "kernelspec": {
   "display_name": "Python 3.10.6 ('torched')",
   "language": "python",
   "name": "python3"
  },
  "language_info": {
   "codemirror_mode": {
    "name": "ipython",
    "version": 3
   },
   "file_extension": ".py",
   "mimetype": "text/x-python",
   "name": "python",
   "nbconvert_exporter": "python",
   "pygments_lexer": "ipython3",
   "version": "3.10.6"
  },
  "orig_nbformat": 4,
  "vscode": {
   "interpreter": {
    "hash": "b72875b808b4821a66c056bbb38de6a4c1e75d06274b19513bafe416aafb864f"
   }
  }
 },
 "nbformat": 4,
 "nbformat_minor": 2
}
